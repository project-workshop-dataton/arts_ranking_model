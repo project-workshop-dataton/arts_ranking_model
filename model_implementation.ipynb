{
 "cells": [
  {
   "cell_type": "code",
   "execution_count": 1,
   "metadata": {},
   "outputs": [],
   "source": [
    "import gensim\n",
    "from gensim.models import KeyedVectors\n",
    "import numpy as np\n",
    "import pandas as pd"
   ]
  },
  {
   "cell_type": "markdown",
   "metadata": {},
   "source": [
    "Импортируем обученные Word2Vec вектора:"
   ]
  },
  {
   "cell_type": "code",
   "execution_count": 2,
   "metadata": {},
   "outputs": [],
   "source": [
    "path_to_word_vectors = '~/Desktop/Projects/Data/GoogleNews/GoogleNews-vectors-negative300.bin.gz'\n",
    "model = KeyedVectors.load_word2vec_format(path_to_word_vectors, binary=True)"
   ]
  },
  {
   "cell_type": "markdown",
   "metadata": {},
   "source": [
    "Посмотрим, какой размер имеют вектора:"
   ]
  },
  {
   "cell_type": "code",
   "execution_count": 25,
   "metadata": {},
   "outputs": [
    {
     "data": {
      "text/plain": [
       "300"
      ]
     },
     "execution_count": 25,
     "metadata": {},
     "output_type": "execute_result"
    }
   ],
   "source": [
    "model.vector_size"
   ]
  },
  {
   "cell_type": "markdown",
   "metadata": {},
   "source": [
    "Посмотрим, как выглядит вектор слова 'man':"
   ]
  },
  {
   "cell_type": "code",
   "execution_count": 3,
   "metadata": {},
   "outputs": [
    {
     "name": "stdout",
     "output_type": "stream",
     "text": [
      "[ 0.32617188  0.13085938  0.03466797 -0.08300781  0.08984375 -0.04125977\n",
      " -0.19824219  0.00689697  0.14355469  0.0019455   0.02880859 -0.25\n",
      " -0.08398438 -0.15136719 -0.10205078  0.04077148 -0.09765625  0.05932617\n",
      "  0.02978516 -0.10058594 -0.13085938  0.001297    0.02612305 -0.27148438\n",
      "  0.06396484 -0.19140625 -0.078125    0.25976562  0.375      -0.04541016\n",
      "  0.16210938  0.13671875 -0.06396484 -0.02062988 -0.09667969  0.25390625\n",
      "  0.24804688 -0.12695312  0.07177734  0.3203125   0.03149414 -0.03857422\n",
      "  0.21191406 -0.00811768  0.22265625 -0.13476562 -0.07617188  0.01049805\n",
      " -0.05175781  0.03808594 -0.13378906  0.125       0.0559082  -0.18261719\n",
      "  0.08154297 -0.08447266 -0.07763672 -0.04345703  0.08105469 -0.01092529\n",
      "  0.17480469  0.30664062 -0.04321289 -0.01416016  0.09082031 -0.00927734\n",
      " -0.03442383 -0.11523438  0.12451172 -0.0246582   0.08544922  0.14355469\n",
      " -0.27734375  0.03662109 -0.11035156  0.13085938 -0.01721191 -0.08056641\n",
      " -0.00708008 -0.02954102  0.30078125 -0.09033203  0.03149414 -0.18652344\n",
      " -0.11181641  0.10253906 -0.25976562 -0.02209473  0.16796875 -0.05322266\n",
      " -0.14550781 -0.01049805 -0.03039551 -0.03857422  0.11523438 -0.0062561\n",
      " -0.13964844  0.08007812  0.06103516 -0.15332031 -0.11132812 -0.14160156\n",
      "  0.19824219 -0.06933594  0.29296875 -0.16015625  0.20898438  0.00041771\n",
      "  0.01831055 -0.20214844  0.04760742  0.05810547 -0.0123291  -0.01989746\n",
      " -0.00364685 -0.0135498  -0.08251953 -0.03149414  0.00717163  0.20117188\n",
      "  0.08300781 -0.0480957  -0.26367188 -0.09667969 -0.22558594 -0.09667969\n",
      "  0.06494141 -0.02502441  0.08496094  0.03198242 -0.07568359 -0.25390625\n",
      " -0.11669922 -0.01446533 -0.16015625 -0.00701904 -0.05712891  0.02807617\n",
      " -0.09179688  0.25195312  0.24121094  0.06640625  0.12988281  0.17089844\n",
      " -0.13671875  0.1875     -0.10009766 -0.04199219 -0.12011719  0.00524902\n",
      "  0.15625    -0.203125   -0.07128906 -0.06103516  0.01635742  0.18261719\n",
      "  0.03588867 -0.04248047  0.16796875 -0.15039062 -0.16992188  0.01831055\n",
      "  0.27734375 -0.01269531 -0.0390625  -0.15429688  0.18457031 -0.07910156\n",
      "  0.09033203 -0.02709961  0.08251953  0.06738281 -0.16113281 -0.19628906\n",
      " -0.15234375 -0.04711914  0.04760742  0.05908203 -0.16894531 -0.14941406\n",
      "  0.12988281  0.04321289  0.02624512 -0.1796875  -0.19628906  0.06445312\n",
      "  0.08935547  0.1640625  -0.03808594 -0.09814453 -0.01483154  0.1875\n",
      "  0.12792969  0.22753906  0.01818848 -0.07958984 -0.11376953 -0.06933594\n",
      " -0.15527344 -0.08105469 -0.09277344 -0.11328125 -0.15136719 -0.08007812\n",
      " -0.05126953 -0.15332031  0.11669922  0.06835938  0.0324707  -0.33984375\n",
      " -0.08154297 -0.08349609  0.04003906  0.04907227 -0.24121094 -0.13476562\n",
      " -0.05932617  0.12158203 -0.34179688  0.16503906  0.06176758 -0.18164062\n",
      "  0.20117188 -0.07714844  0.1640625   0.00402832  0.30273438 -0.10009766\n",
      " -0.13671875 -0.05957031  0.0625     -0.21289062 -0.06542969  0.1796875\n",
      " -0.07763672 -0.01928711 -0.15039062 -0.00106049  0.03417969  0.03344727\n",
      "  0.19335938  0.01965332 -0.19921875 -0.10644531  0.01525879  0.00927734\n",
      "  0.01416016 -0.02392578  0.05883789  0.02368164  0.125       0.04760742\n",
      " -0.05566406  0.11572266  0.14746094  0.1015625  -0.07128906 -0.07714844\n",
      " -0.12597656  0.0291748   0.09521484 -0.12402344 -0.109375   -0.12890625\n",
      "  0.16308594  0.28320312 -0.03149414  0.12304688 -0.23242188 -0.09375\n",
      " -0.12988281  0.0135498  -0.03881836 -0.08251953  0.00897217  0.16308594\n",
      "  0.10546875 -0.13867188 -0.16503906 -0.03857422  0.10839844 -0.10498047\n",
      "  0.06396484  0.38867188 -0.05981445 -0.0612793  -0.10449219 -0.16796875\n",
      "  0.07177734  0.13964844  0.15527344 -0.03125    -0.20214844 -0.12988281\n",
      " -0.10058594 -0.06396484 -0.08349609 -0.30273438 -0.08007812  0.02099609]\n"
     ]
    }
   ],
   "source": [
    "vec = model['man']\n",
    "print(vec)"
   ]
  },
  {
   "cell_type": "markdown",
   "metadata": {},
   "source": [
    "Проверим, правильно ли модель находит похожиие слова для слова:"
   ]
  },
  {
   "cell_type": "code",
   "execution_count": 5,
   "metadata": {},
   "outputs": [
    {
     "data": {
      "text/plain": [
       "[('woman', 0.7664012908935547),\n",
       " ('boy', 0.6824870705604553),\n",
       " ('teenager', 0.6586930155754089),\n",
       " ('teenage_girl', 0.6147903203964233),\n",
       " ('girl', 0.5921714305877686),\n",
       " ('suspected_purse_snatcher', 0.5716364979743958),\n",
       " ('robber', 0.5585118532180786),\n",
       " ('Robbery_suspect', 0.5584409832954407),\n",
       " ('teen_ager', 0.5549196004867554),\n",
       " ('men', 0.5489763021469116)]"
      ]
     },
     "execution_count": 5,
     "metadata": {},
     "output_type": "execute_result"
    }
   ],
   "source": [
    "model.most_similar('man')"
   ]
  },
  {
   "cell_type": "markdown",
   "metadata": {},
   "source": [
    "Способ подсчета косинусного расстояния между векторами:"
   ]
  },
  {
   "cell_type": "code",
   "execution_count": 24,
   "metadata": {},
   "outputs": [
    {
     "data": {
      "text/plain": [
       "[0.76640123, 0.21210901]"
      ]
     },
     "execution_count": 24,
     "metadata": {},
     "output_type": "execute_result"
    }
   ],
   "source": [
    "list(model.cosine_similarities(model['man'], [model['woman'], model['rat']]))"
   ]
  },
  {
   "cell_type": "markdown",
   "metadata": {},
   "source": [
    "Вычисление вектора текста:"
   ]
  },
  {
   "cell_type": "code",
   "execution_count": 27,
   "metadata": {},
   "outputs": [],
   "source": [
    "def count_bag_of_words(model: gensim.models.keyedvectors.KeyedVectors, text: str) -> np.ndarray:\n",
    "    words = text.split(' ')\n",
    "    text_vector = np.zeros(model.vector_size)\n",
    "    indexed_words_quantity = 0\n",
    "    for word in words:\n",
    "        if model.has_index_for(word):\n",
    "            indexed_words_quantity += 1\n",
    "            text_vector += model[word]\n",
    "    if indexed_words_quantity != 0:\n",
    "        text_vector /= indexed_words_quantity\n",
    "\n",
    "    return text_vector"
   ]
  },
  {
   "cell_type": "markdown",
   "metadata": {},
   "source": [
    "Нахождение самых близких к запросу текстов"
   ]
  },
  {
   "cell_type": "code",
   "execution_count": 13,
   "metadata": {},
   "outputs": [],
   "source": [
    "def find_most_similar_text(model: gensim.models.keyedvectors.KeyedVectors, query: str, texts: list[str], top_k: int) -> list[str]:\n",
    "    '''\n",
    "\n",
    "    Args:\n",
    "        model (gensim.models.keyedvectors.KeyedVectors): Word vectors\n",
    "        query (str): User query\n",
    "        texts (list[str]): list of arts descriptions\n",
    "        top_k (int): Hom many arts you want\n",
    "\n",
    "    Returns:\n",
    "        list[str]: List of most similar descriptions\n",
    "    '''\n",
    "\n",
    "    query_vector = count_bag_of_words(model=model, text=query)\n",
    "    texts_vectors = pd.DataFrame({'text': texts, \n",
    "                                  'text_vector': list(map(lambda text: count_bag_of_words(model=model, text=text), texts))})\n",
    "    texts_vectors['query_distance'] = list(model.cosine_similarities(query_vector, list(texts_vectors['text_vector'])))\n",
    "    return texts_vectors.nlargest(n = top_k, columns='query_distance')['text'].to_list()"
   ]
  },
  {
   "cell_type": "code",
   "execution_count": 29,
   "metadata": {},
   "outputs": [],
   "source": [
    "assert find_most_similar_text(model= model, query='impressionism',texts = ['man in black', 'starry night'], top_k = 1) == ['starry night']"
   ]
  },
  {
   "cell_type": "code",
   "execution_count": 17,
   "metadata": {},
   "outputs": [
    {
     "data": {
      "text/html": [
       "<div>\n",
       "<style scoped>\n",
       "    .dataframe tbody tr th:only-of-type {\n",
       "        vertical-align: middle;\n",
       "    }\n",
       "\n",
       "    .dataframe tbody tr th {\n",
       "        vertical-align: top;\n",
       "    }\n",
       "\n",
       "    .dataframe thead th {\n",
       "        text-align: right;\n",
       "    }\n",
       "</style>\n",
       "<table border=\"1\" class=\"dataframe\">\n",
       "  <thead>\n",
       "    <tr style=\"text-align: right;\">\n",
       "      <th></th>\n",
       "      <th>artwork_id</th>\n",
       "      <th>title</th>\n",
       "      <th>medium</th>\n",
       "      <th>department</th>\n",
       "      <th>classification</th>\n",
       "      <th>size_category</th>\n",
       "      <th>duration_category</th>\n",
       "      <th>release_date</th>\n",
       "      <th>name</th>\n",
       "      <th>nationality</th>\n",
       "      <th>gender</th>\n",
       "      <th>birth_year</th>\n",
       "      <th>death_year</th>\n",
       "      <th>feature_joined_text</th>\n",
       "    </tr>\n",
       "  </thead>\n",
       "  <tbody>\n",
       "    <tr>\n",
       "      <th>0</th>\n",
       "      <td>0</td>\n",
       "      <td>Ferdinandsbrücke Project, Vienna, Austria, Ele...</td>\n",
       "      <td>Ink and cut-and-pasted painted pages on paper</td>\n",
       "      <td>Architecture &amp; Design</td>\n",
       "      <td>Architecture</td>\n",
       "      <td>big</td>\n",
       "      <td>NaN</td>\n",
       "      <td>1896.0</td>\n",
       "      <td>Otto Wagner</td>\n",
       "      <td>Austrian</td>\n",
       "      <td>male</td>\n",
       "      <td>1841.0</td>\n",
       "      <td>1918.0</td>\n",
       "      <td>ferdinandsbrücke project vienna austria elevat...</td>\n",
       "    </tr>\n",
       "    <tr>\n",
       "      <th>1</th>\n",
       "      <td>1</td>\n",
       "      <td>City of Music, National Superior Conservatory ...</td>\n",
       "      <td>Paint and colored pencil on print</td>\n",
       "      <td>Architecture &amp; Design</td>\n",
       "      <td>Architecture</td>\n",
       "      <td>medium</td>\n",
       "      <td>NaN</td>\n",
       "      <td>1987.0</td>\n",
       "      <td>Christian de Portzamparc</td>\n",
       "      <td>French</td>\n",
       "      <td>male</td>\n",
       "      <td>1944.0</td>\n",
       "      <td>NaN</td>\n",
       "      <td>city of music national superior conservatory o...</td>\n",
       "    </tr>\n",
       "    <tr>\n",
       "      <th>2</th>\n",
       "      <td>2</td>\n",
       "      <td>Villa near Vienna Project, Outside Vienna, Aus...</td>\n",
       "      <td>Graphite, pen, color pencil, ink, and gouache ...</td>\n",
       "      <td>Architecture &amp; Design</td>\n",
       "      <td>Architecture</td>\n",
       "      <td>medium</td>\n",
       "      <td>NaN</td>\n",
       "      <td>1903.0</td>\n",
       "      <td>Emil Hoppe</td>\n",
       "      <td>Austrian</td>\n",
       "      <td>male</td>\n",
       "      <td>1876.0</td>\n",
       "      <td>1957.0</td>\n",
       "      <td>villa near vienna project outside vienna austr...</td>\n",
       "    </tr>\n",
       "    <tr>\n",
       "      <th>3</th>\n",
       "      <td>3</td>\n",
       "      <td>The Manhattan Transcripts Project, New York, N...</td>\n",
       "      <td>Photographic reproduction with colored synthet...</td>\n",
       "      <td>Architecture &amp; Design</td>\n",
       "      <td>Architecture</td>\n",
       "      <td>medium</td>\n",
       "      <td>NaN</td>\n",
       "      <td>1980.0</td>\n",
       "      <td>Bernard Tschumi</td>\n",
       "      <td>NaN</td>\n",
       "      <td>male</td>\n",
       "      <td>1944.0</td>\n",
       "      <td>NaN</td>\n",
       "      <td>the manhattan transcripts project new york new...</td>\n",
       "    </tr>\n",
       "    <tr>\n",
       "      <th>4</th>\n",
       "      <td>4</td>\n",
       "      <td>Villa, project, outside Vienna, Austria, Exter...</td>\n",
       "      <td>Graphite, color pencil, ink, and gouache on tr...</td>\n",
       "      <td>Architecture &amp; Design</td>\n",
       "      <td>Architecture</td>\n",
       "      <td>medium</td>\n",
       "      <td>NaN</td>\n",
       "      <td>1903.0</td>\n",
       "      <td>Emil Hoppe</td>\n",
       "      <td>Austrian</td>\n",
       "      <td>male</td>\n",
       "      <td>1876.0</td>\n",
       "      <td>1957.0</td>\n",
       "      <td>villa project outside vienna austria exterior ...</td>\n",
       "    </tr>\n",
       "  </tbody>\n",
       "</table>\n",
       "</div>"
      ],
      "text/plain": [
       "   artwork_id                                              title  \\\n",
       "0           0  Ferdinandsbrücke Project, Vienna, Austria, Ele...   \n",
       "1           1  City of Music, National Superior Conservatory ...   \n",
       "2           2  Villa near Vienna Project, Outside Vienna, Aus...   \n",
       "3           3  The Manhattan Transcripts Project, New York, N...   \n",
       "4           4  Villa, project, outside Vienna, Austria, Exter...   \n",
       "\n",
       "                                              medium             department  \\\n",
       "0      Ink and cut-and-pasted painted pages on paper  Architecture & Design   \n",
       "1                  Paint and colored pencil on print  Architecture & Design   \n",
       "2  Graphite, pen, color pencil, ink, and gouache ...  Architecture & Design   \n",
       "3  Photographic reproduction with colored synthet...  Architecture & Design   \n",
       "4  Graphite, color pencil, ink, and gouache on tr...  Architecture & Design   \n",
       "\n",
       "  classification size_category duration_category  release_date  \\\n",
       "0   Architecture           big               NaN        1896.0   \n",
       "1   Architecture        medium               NaN        1987.0   \n",
       "2   Architecture        medium               NaN        1903.0   \n",
       "3   Architecture        medium               NaN        1980.0   \n",
       "4   Architecture        medium               NaN        1903.0   \n",
       "\n",
       "                       name nationality gender  birth_year  death_year  \\\n",
       "0               Otto Wagner    Austrian   male      1841.0      1918.0   \n",
       "1  Christian de Portzamparc      French   male      1944.0         NaN   \n",
       "2                Emil Hoppe    Austrian   male      1876.0      1957.0   \n",
       "3           Bernard Tschumi         NaN   male      1944.0         NaN   \n",
       "4                Emil Hoppe    Austrian   male      1876.0      1957.0   \n",
       "\n",
       "                                 feature_joined_text  \n",
       "0  ferdinandsbrücke project vienna austria elevat...  \n",
       "1  city of music national superior conservatory o...  \n",
       "2  villa near vienna project outside vienna austr...  \n",
       "3  the manhattan transcripts project new york new...  \n",
       "4  villa project outside vienna austria exterior ...  "
      ]
     },
     "execution_count": 17,
     "metadata": {},
     "output_type": "execute_result"
    }
   ],
   "source": [
    "df.head()"
   ]
  }
 ],
 "metadata": {
  "kernelspec": {
   "display_name": ".venv",
   "language": "python",
   "name": "python3"
  },
  "language_info": {
   "codemirror_mode": {
    "name": "ipython",
    "version": 3
   },
   "file_extension": ".py",
   "mimetype": "text/x-python",
   "name": "python",
   "nbconvert_exporter": "python",
   "pygments_lexer": "ipython3",
   "version": "3.9.6"
  }
 },
 "nbformat": 4,
 "nbformat_minor": 2
}
